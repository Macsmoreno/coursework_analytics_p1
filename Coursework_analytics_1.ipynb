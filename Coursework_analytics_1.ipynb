{
 "cells": [
  {
   "cell_type": "markdown",
   "metadata": {},
   "source": [
    "# Курсовая работа. Блок 1\n",
    "*Pandas и Matplotlib*\n",
    "\n",
    "**NB!** Код должен быть с комментариями к каждому логическому блоку кода. В противном случае работа **не** будет принята. <br><br>\n",
    "Выполнение курсовой работы может потребовать использование дополнительных библиотек. \n",
    "\n",
    "<br><br>\n",
    "**Описание работы:**\n",
    "\n",
    "Перед вами стоит бизнес-задача – на основании имеющихся данных подготовить аналитический отчет, который в дальнейшем поможет продюсерам образовательных программ эффективно выстраивать стратегию по модернизированию и улучшению курсов. В начале отчета предлагается оформить емкий описательный блок по каждому курсу на основании рассчитанных показателей. Далее предлагается посчитать потенциальную нагрузку на преподавателей, чтобы оценить необходимость расширения штата сотрудников. Затем идет блок из двух пунктов по анализу качества контента курсов, где необходимо выявить проблемные модули, которые, возможно, требуют доработки. Также стоит задача выявить потенциальную сезонность. Наконец, предложено задание для самостоятельной разработки метрики успеваемости студентов для нахождения тех, кто значительно хуже справляются с прохождением курса. Каждый из пунктов анализа предполагается сопроводить аналитическим выводом на основании рассчитанных метрик.\n",
    "\n",
    "<br><br>\n",
    "\n",
    "_________\n",
    "Обозначения:<br><br>\n",
    "&nbsp;&nbsp;&nbsp;&nbsp;**(p)** – задание может быть выполнено после прохождения модулей по Pandas <br>\n",
    "&nbsp;&nbsp;&nbsp;&nbsp;**(m)** – задание может быть выполнено после прохождения модуля по Matplotlib <br>\n",
    "&nbsp;&nbsp;&nbsp;&nbsp;⭐ – необязательное задание повышенной сложности\n",
    "_________\n",
    "\n",
    "[Codebook](#Codebook) <br>\n",
    "[1. Описание и начальная работа с данными](#1.1-Описание-и-начальная-работа-с-данными)<br>\n",
    "[2. Расчет потенциальной нагрузки на преподавателей](#2.-Расчет-потенциальной-нагрузки-на-преподавателей)<br>\n",
    "[3. Выявление проблемных модулей](#3.-Выявление-проблемных-модулей)<br>\n",
    "[4. Расчет конверсии](#4.-Расчет-конверсии) <br>\n",
    "[5. Метрика успеваемости ](#5.-Метрика-успеваемости)"
   ]
  },
  {
   "cell_type": "markdown",
   "metadata": {},
   "source": [
    "## Codebook\n",
    "\n",
    "`courses.csv` содержит следующие значения: <br><br>\n",
    "&nbsp;&nbsp;&nbsp;&nbsp; `id` – идентификатор курса <br>\n",
    "&nbsp;&nbsp;&nbsp;&nbsp; `title` – название курса <br>\n",
    "&nbsp;&nbsp;&nbsp;&nbsp;  `field` – сфера, к которой относится курс <br> <br><br>\n",
    "`students.csv` содержит следующие значения: <br><br>\n",
    "&nbsp;&nbsp;&nbsp;&nbsp; `id` – идентификатор студента <br>\n",
    "&nbsp;&nbsp;&nbsp;&nbsp; `city` – город студента <br>\n",
    "&nbsp;&nbsp;&nbsp;&nbsp;  `birthday` – день рождения студента <br> <br><br>\n",
    "`course_contents.csv` содержит следующие значения: <br><br>\n",
    "&nbsp;&nbsp;&nbsp;&nbsp; `course_id` – идентификатор курса <br>\n",
    "&nbsp;&nbsp;&nbsp;&nbsp; `module_number` – номер модуля <br>\n",
    "&nbsp;&nbsp;&nbsp;&nbsp;  `module_title` – название модуля <br> \n",
    "&nbsp;&nbsp;&nbsp;&nbsp; `lesson_number` – номер урока <br>\n",
    "&nbsp;&nbsp;&nbsp;&nbsp;  `lesson_title` – название урока <br>\n",
    "&nbsp;&nbsp;&nbsp;&nbsp;  `lesson_token` – токен урока <br> \n",
    "&nbsp;&nbsp;&nbsp;&nbsp; `is_video` – наличие видео *(true/false)* <br>\n",
    "&nbsp;&nbsp;&nbsp;&nbsp;  `is_homework` – наличие домашней работы *(true/false)* <br>\n",
    "<br><br>\n",
    "`progresses.csv` содержит следующие значения: <br><br>\n",
    "&nbsp;&nbsp;&nbsp;&nbsp; `id` – идентификатор прогресса <br>\n",
    "&nbsp;&nbsp;&nbsp;&nbsp; `student_id` – идентификатор студента <br>\n",
    "&nbsp;&nbsp;&nbsp;&nbsp;  `course_id` – идентификатор курса <br> <br><br>\n",
    "`progress_phases.csv` содержит следующие значения: <br><br>\n",
    "&nbsp;&nbsp;&nbsp;&nbsp; `progress_id` – идентификатор прогресса <br>\n",
    "&nbsp;&nbsp;&nbsp;&nbsp; `module_number` – номер модуля <br>\n",
    "&nbsp;&nbsp;&nbsp;&nbsp; `lesson_number` – номер урока <br>\n",
    "&nbsp;&nbsp;&nbsp;&nbsp;  `status` – статус прохождения урока <br>\n",
    "&nbsp;&nbsp;&nbsp;&nbsp;  `start_date` – дата начала <br> \n",
    "&nbsp;&nbsp;&nbsp;&nbsp; `finish_date` – дата окончания <br>\n",
    "<br><br>"
   ]
  },
  {
   "cell_type": "code",
   "execution_count": null,
   "metadata": {},
   "outputs": [],
   "source": [
    "import datetime\n",
    "\n",
    "import pandas as pd\n",
    "import matplotlib.pyplot as plt\n",
    "from datetime import datetime\n",
    "from matplotlib.patches import Patch\n",
    "\n",
    "today = pd.to_datetime('today')"
   ]
  },
  {
   "cell_type": "code",
   "execution_count": null,
   "metadata": {},
   "outputs": [],
   "source": [
    "df_courses = pd.read_csv('courses.csv')\n",
    "df_courses_content = pd.read_csv('course_contents.csv')\n",
    "df_progress_phases = pd.read_csv('progress_phases.csv', parse_dates= ['start_date', 'finish_date'])\n",
    "df_progresses = pd.read_csv('progresses.csv')\n",
    "df_students = pd.read_csv('students.csv', parse_dates= ['birthday'])"
   ]
  },
  {
   "cell_type": "code",
   "execution_count": null,
   "metadata": {},
   "outputs": [],
   "source": [
    "df_students.birthday = pd.to_datetime(df_students.birthday, errors= 'coerce', yearfirst= True)"
   ]
  },
  {
   "cell_type": "code",
   "execution_count": null,
   "metadata": {},
   "outputs": [],
   "source": [
    "df_students.info()"
   ]
  },
  {
   "cell_type": "code",
   "execution_count": null,
   "metadata": {},
   "outputs": [],
   "source": [
    "print(df_courses.shape)\n",
    "print(df_courses_content.shape)\n",
    "print(df_progress_phases.shape)\n",
    "print(df_progresses.shape)"
   ]
  },
  {
   "cell_type": "code",
   "execution_count": null,
   "metadata": {},
   "outputs": [],
   "source": [
    "df_1 = pd.merge(df_progresses, df_progress_phases, left_on= 'id', right_on = 'progress_id')\n",
    "\n",
    "print(df_1.shape)\n",
    "print(df_progress_phases.shape)"
   ]
  },
  {
   "cell_type": "code",
   "execution_count": null,
   "metadata": {},
   "outputs": [],
   "source": [
    "df_2 = pd.merge(df_courses_content, df_1)\n",
    "df_2.shape"
   ]
  },
  {
   "cell_type": "code",
   "execution_count": null,
   "metadata": {},
   "outputs": [],
   "source": [
    "%%time\n",
    "df_3 = pd.merge(df_courses, df_2, left_on = 'id', right_on= 'course_id')\n",
    "df_3.shape"
   ]
  },
  {
   "cell_type": "code",
   "execution_count": null,
   "metadata": {},
   "outputs": [],
   "source": [
    "%%time\n",
    "df_main = df_3.copy(deep = True)\n",
    "df_main = df_main.drop(['Unnamed: 0', 'id_x', 'id_y'], axis = 1)\n",
    "df_main.shape"
   ]
  },
  {
   "cell_type": "markdown",
   "metadata": {},
   "source": [
    "## 1. Описание и начальная работа с данными\n",
    "\n",
    "Вам необходимо подготовить данные и описать их. Данные реальные и содержат пропущенные значения, а также лишние относительно друг друга данные. <br>\n",
    "\n",
    "Объедините датасеты (кроме `students.scv`) в один общий для дальнейшей работы. Отдельный датасет создайте для расчета среднего возраста студентов курсов (отдельный датасет со `students.scv` нужен, чтобы в основном не потерять значения в основном датасете из-за того, что не по всем студентам есть анкетные данные о дате рождения). <br> <br>\n",
    "Опишите данные: <br>\n",
    "1. **(p)** Посчитайте\n",
    "      * общее количество курсов в датасете, \n",
    "      * количество модулей на каждом курсе, \n",
    "      * количество уроков в каждом модуле на каждом курсе, \n",
    "      * медианное количество уроков в модуле на каждом курсе, \n",
    "      * количество учеников на каждом курсе\n",
    "      * минимальный, максимальный, средний, медианный возраст студентов\n",
    "      * минимальный, максимальный, средний, медианный возраст студентов на каждом курсе\n",
    "2. **(m)** Постройте bar-chart, отражающий количество студентов на каждом курсе. Ticks нужно развернуть так, чтобы они были читаемы\n",
    "3. **(m)** Постройте горизонтальный (столбцы должны располагаться горизонтально) bar-chart, отражающий количество студентов на каждом курсе. График должен иметь заголовок. Значения должны быть отсортированы. Цвет столбцов должен содержать информацию о сфере, к которой относится курс (то есть нужна легенда). Прозрачность должна стоять на отметке 0.1. На график должна быть нанесена линия медианы. У медианы должен быть свой цвет. Рамки у графика быть не должно ⭐\n",
    "4.     На основании рассчитанных значений опишите данные (описание должно быть полным и покрывать все полученные выше метрики)\n",
    "\n",
    "_____________________________________________________________________\n"
   ]
  },
  {
   "cell_type": "markdown",
   "metadata": {},
   "source": [
    "Для того, чтобы проверить, что вы правильно соединили все датасеты в основной (без `students.csv`), запустите аналогичный приведенному ниже запрос. Выдача должна совпадать. Имейте в виду, что названия некоторых столбцов были переименованы."
   ]
  },
  {
   "cell_type": "markdown",
   "metadata": {},
   "source": [
    "##### 1.1.1 Посчитайте общее количество курсов в датасете"
   ]
  },
  {
   "cell_type": "code",
   "execution_count": null,
   "metadata": {},
   "outputs": [],
   "source": [
    "courses_total = df_main['title'].unique()\n",
    "print(courses_total)\n",
    "print(courses_total.shape)"
   ]
  },
  {
   "cell_type": "markdown",
   "metadata": {},
   "source": [
    "Для подготовки аналитического отчета взяты данные из 15 курсов."
   ]
  },
  {
   "cell_type": "markdown",
   "metadata": {},
   "source": [
    "##### 1.1.2 Посчитайте количество модулей на каждом курсе"
   ]
  },
  {
   "cell_type": "code",
   "execution_count": null,
   "metadata": {},
   "outputs": [],
   "source": [
    "df_main[['title', 'module_title']].groupby('title').nunique().sort_values('module_title', ascending= False)"
   ]
  },
  {
   "cell_type": "markdown",
   "metadata": {},
   "source": [
    "Лидером по количеству модулей в курсе является курс \"Анимация интерфейсов\", наименьшее же количество модулей - в курсе \"Веб-вёрстка для начинающих 2.0\"."
   ]
  },
  {
   "cell_type": "markdown",
   "metadata": {},
   "source": [
    "##### 1.1.3 Посчитайте количество уроков в каждом модуле на каждом курсе"
   ]
  },
  {
   "cell_type": "code",
   "execution_count": null,
   "metadata": {},
   "outputs": [],
   "source": [
    "count_lessons = df_main[['title', 'module_title', 'lesson_title']].groupby(['title', 'module_title']).nunique()\n"
   ]
  },
  {
   "cell_type": "code",
   "execution_count": null,
   "metadata": {},
   "outputs": [],
   "source": [
    "for i in courses_total:\n",
    "    print('Название курса -', i)\n",
    "    print(count_lessons.loc[i], end = '\\n\\n\\n')"
   ]
  },
  {
   "cell_type": "markdown",
   "metadata": {},
   "source": [
    "Лидером по количеству уроков в модуле является курс \"Интернет-маркетолог от Ingate\". На курсе \"Веб-разработчик\" модулей и курсов одинаковое количество."
   ]
  },
  {
   "cell_type": "markdown",
   "metadata": {},
   "source": [
    "##### 1.1.4 Посчитайте медианное количество уроков в модуле на каждом курсе"
   ]
  },
  {
   "cell_type": "code",
   "execution_count": null,
   "metadata": {},
   "outputs": [],
   "source": [
    "count_lessons.groupby('title').median()"
   ]
  },
  {
   "cell_type": "markdown",
   "metadata": {},
   "source": [
    "##### 1.1.5 Посчитайте количество учеников на каждом курсе"
   ]
  },
  {
   "cell_type": "code",
   "execution_count": null,
   "metadata": {},
   "outputs": [],
   "source": [
    "df_main[['title', 'student_id']].groupby('title').nunique().sort_values('student_id', ascending= False)"
   ]
  },
  {
   "cell_type": "markdown",
   "metadata": {},
   "source": [
    "Наиболее популярным является курс \"Интернет-маркетолог от Ingate\", а наименее - \"SMM-маркетолог от А до Я\"."
   ]
  },
  {
   "cell_type": "markdown",
   "metadata": {},
   "source": [
    "##### 1.1.6 Посчитайте минимальный, максимальный, средний, медианный возраст студентов"
   ]
  },
  {
   "cell_type": "code",
   "execution_count": null,
   "metadata": {},
   "outputs": [],
   "source": [
    "students_age = df_students.copy(deep= True)"
   ]
  },
  {
   "cell_type": "code",
   "execution_count": null,
   "metadata": {},
   "outputs": [],
   "source": [
    "students_age['age'] = (today - students_age.birthday)// pd.Timedelta(days = 365)"
   ]
  },
  {
   "cell_type": "code",
   "execution_count": null,
   "metadata": {},
   "outputs": [],
   "source": [
    "students_age.age.agg(['mean', 'median', 'max', 'min'])"
   ]
  },
  {
   "cell_type": "markdown",
   "metadata": {},
   "source": [
    "Средний возраст студента на курсах - 31 год. Минимальный и максимальный возрасты расчитывались на текущий момент исхождя из представленных дат рождения студентов. На данном этапе выявлены выбросы, отфильтруем их."
   ]
  },
  {
   "cell_type": "code",
   "execution_count": null,
   "metadata": {},
   "outputs": [],
   "source": [
    "students_age[(students_age.age <= 0) | (students_age.age > 70)].sort_values('age', ascending= False)"
   ]
  },
  {
   "cell_type": "code",
   "execution_count": null,
   "metadata": {},
   "outputs": [],
   "source": [
    "students_age = students_age.drop(students_age[(students_age.age <= 0) | (students_age.age > 70)].index)"
   ]
  },
  {
   "cell_type": "code",
   "execution_count": null,
   "metadata": {},
   "outputs": [],
   "source": [
    "students_age.age.agg(['mean', 'median', 'max', 'min'])"
   ]
  },
  {
   "cell_type": "markdown",
   "metadata": {},
   "source": [
    "После фильтрации данных и выявления выбросов была установлена граница максимального возраста в 70 лет, так как способности к обучению людей выше 70 лет вызывают сомнения. Далее отфильтруем данные для определения минимального возраста."
   ]
  },
  {
   "cell_type": "code",
   "execution_count": null,
   "metadata": {},
   "outputs": [],
   "source": [
    "students_age[(students_age.age > 0) & (students_age.age < 17)]"
   ]
  },
  {
   "cell_type": "code",
   "execution_count": null,
   "metadata": {},
   "outputs": [],
   "source": [
    "students_age = students_age.drop(students_age[(students_age.age > 0) & (students_age.age < 17)].index)"
   ]
  },
  {
   "cell_type": "code",
   "execution_count": null,
   "metadata": {},
   "outputs": [],
   "source": [
    "students_age.age.agg(['mean', 'median', 'max', 'min'])"
   ]
  },
  {
   "cell_type": "markdown",
   "metadata": {},
   "source": [
    "В ходе исследования данных для выявления минимального возраста была выставлена граница в 17 лет, так как дальнейшее иследование данных показывает, что студенты младше на данных курсах не обучаются."
   ]
  },
  {
   "cell_type": "markdown",
   "metadata": {},
   "source": [
    "##### 1.1.7 Посчитайте минимальный, максимальный, средний, медианный возраст студентов на каждом курсе"
   ]
  },
  {
   "cell_type": "code",
   "execution_count": null,
   "metadata": {},
   "outputs": [],
   "source": [
    "df_main_students = df_main.copy(deep = True)\n",
    "df_main_students.shape"
   ]
  },
  {
   "cell_type": "code",
   "execution_count": null,
   "metadata": {},
   "outputs": [],
   "source": [
    "df_main_students.head(1)"
   ]
  },
  {
   "cell_type": "code",
   "execution_count": null,
   "metadata": {},
   "outputs": [],
   "source": [
    "students_age.head(1)"
   ]
  },
  {
   "cell_type": "code",
   "execution_count": null,
   "metadata": {},
   "outputs": [],
   "source": [
    "df_main_students = df_main_students.merge(students_age, how = 'left', left_on = 'student_id', right_on = 'id', copy= False)\n",
    "df_main_students.shape"
   ]
  },
  {
   "cell_type": "code",
   "execution_count": null,
   "metadata": {},
   "outputs": [],
   "source": [
    "df_main_students.head(1)\n",
    "df_main_students = df_main_students.drop(['id_', 'id', 'city', 'birthday'], axis= 1)\n",
    "df_main_students.shape"
   ]
  },
  {
   "cell_type": "code",
   "execution_count": null,
   "metadata": {},
   "outputs": [],
   "source": [
    "df_main_students.head()"
   ]
  },
  {
   "cell_type": "code",
   "execution_count": null,
   "metadata": {},
   "outputs": [],
   "source": [
    "df_main_students[['title', 'student_id', 'age']].groupby('title').agg(['mean', 'median', 'max', 'min'])"
   ]
  },
  {
   "cell_type": "markdown",
   "metadata": {},
   "source": [
    "Анализ студентов на курсе по возрастам показывает, что самому старшему студенту - 68 лет, а самому младшему - 17. "
   ]
  },
  {
   "cell_type": "markdown",
   "metadata": {},
   "source": [
    "##### 1.2. Постройте bar-chart, отражающий количество студентов на каждом курсе. Ticks нужно развернуть так, чтобы они были читаемы"
   ]
  },
  {
   "cell_type": "code",
   "execution_count": null,
   "metadata": {},
   "outputs": [],
   "source": [
    "students_number_on_courses = df_main_students[['title', 'student_id']].groupby('title').nunique().sort_values('student_id', ascending= False)\n",
    "\n",
    "fig, ax = plt.subplots(figsize = (15, 6))\n",
    "\n",
    "plt.bar(students_number_on_courses.index, students_number_on_courses.student_id)\n",
    "plt.title('Диаграмма распределения учеников по курсам')\n",
    "plt.xlabel('Название курса')\n",
    "plt.ylabel('Количество учеников')\n",
    "plt.xticks(students_number_on_courses.index, rotation = 'vertical',);"
   ]
  },
  {
   "cell_type": "markdown",
   "metadata": {},
   "source": [
    "##### 1.3. Постройте горизонтальный (столбцы должны располагаться горизонтально) bar-chart, отражающий количество студентов на каждом курсе. График должен иметь заголовок. Значения должны быть отсортированы. Цвет столбцов должен содержать информацию о сфере, к которой относится курс (то есть нужна легенда). Прозрачность должна стоять на отметке 0.1. На график должна быть нанесена линия медианы. У медианы должен быть свой цвет. Рамки у графика быть не должно ⭐"
   ]
  },
  {
   "cell_type": "code",
   "execution_count": null,
   "metadata": {},
   "outputs": [],
   "source": [
    "labels = ('Веб', 'Маркетинг', 'Программирование', 'Дизайн', 'Менеджмент')\n",
    "colors = ('red', 'blue', 'yellow', 'cyan', 'pink')\n",
    "cmap = dict(zip(colors, labels))"
   ]
  },
  {
   "cell_type": "code",
   "execution_count": null,
   "metadata": {},
   "outputs": [],
   "source": [
    "color_dict = {\n",
    "            'Веб-дизайн с нуля 2.0' : 'red', 'Веб-вёрстка для начинающих 2.0' : 'red', 'Веб-дизайн PRO 2.0' : 'red', 'Веб-разработчик' : 'red',\n",
    "            'Веб-дизайн Базовый' : 'red',\n",
    "            'Интернет-маркетолог от Ingate' : 'blue', 'SMM-маркетолог от А до Я' : 'blue',\n",
    "            'JavaScript с нуля' : 'yellow', 'PHP-разработчик с 0 до PRO. Часть 1' : 'yellow', 'Java-разработчик' : 'yellow', \n",
    "            'Java-разработчик c нуля': 'yellow', 'Excel Базовый' : 'yellow',\n",
    "            'UX-дизайн' : 'cyan', 'Анимация интерфейсов' : 'cyan',\n",
    "            'Руководитель digital-проектов' : 'pink'\n",
    "}"
   ]
  },
  {
   "cell_type": "code",
   "execution_count": null,
   "metadata": {},
   "outputs": [],
   "source": [
    "fig, ax = plt.subplots(figsize = (20, 10))\n",
    "\n",
    "for i in range(len(students_number_on_courses.index)):\n",
    "\n",
    "    ax.barh(students_number_on_courses.index[i], students_number_on_courses.student_id[i], alpha = 0.9, color = color_dict.get(students_number_on_courses.index[i]))\n",
    "\n",
    "ax.axvline(x = students_number_on_courses.median()['student_id'], color = 'green', ls = '--', label = 'Медиана')\n",
    "ax.set_ylabel('Название курса')\n",
    "ax.set_xlabel('Количество учеников')\n",
    "ax.set_title('Распределение учеников по направлениям')\n",
    "plt.xticks(list(range(0, 2200, 150)) + [students_number_on_courses.median()['student_id'], 2200], rotation = 'vertical')\n",
    "plt.legend()\n",
    "ax.spines[['top', 'left', 'right', 'bottom']].set_visible(False)\n",
    "\n",
    "patches = [Patch(color = v, label = k) for v, k in cmap.items()]\n",
    "\n",
    "plt.legend(title = 'Направления', labels = labels , handles = patches)\n",
    "\n",
    "plt.show()"
   ]
  },
  {
   "cell_type": "markdown",
   "metadata": {},
   "source": [
    "Курсы по веб и программированию составляют наибольшую часть в данном исследовании - по 5 курсов в каждом направлении. Далее идут курсы по дизайну и маркетингу - по 2 в каждом направлении. Курс по менеджементу представлен всего один. Наименее и наиболее популярными являются курсы по маркетингу. "
   ]
  },
  {
   "cell_type": "markdown",
   "metadata": {},
   "source": [
    "## 2. Расчет потенциальной нагрузки на преподавателей\n",
    "\n",
    "1. **(p)** Рассчитать прирост студентов на каждом курсе в каждом месяце за всю историю (каждый месяц в диапазоне от марта 2016 до июля 2019 включительно). Считать дату начала прохождения курса студентом по дате начала первой домашней работы.\n",
    "2. **(m)** На основании первого пункта построить line-graph с приростом студентов в каждом месяце для каждого курса. 15 графиков. Графики должны иметь заголовки, оси должны быть подписаны. Ticks нужно развернуть так, чтобы они были читаемы.\n",
    "3. **(m)** На основании первого пункта построить line-graph с несколькими линиями, отражающими прирост студентов в каждом месяце для каждого курса. 15 линий на графике. Ticks нужно развернуть так, чтобы они были читаемы. График должен иметь заголовок. Ось, отражающая прирост, должна быть подписана. Линия для каждого курса должна иметь свой цвет (нужна легенда). Рамок у графика быть не должно ⭐\n",
    "4. **(p)** Рассчитать количество прогрессов по выполнению домашних работ в каждом месяце за всю историю (каждый месяц в диапазоне от марта 2016 до июля 2019 включительно) для каждого курса. Учитывать, что выполнение домашнего задания может перетекать из одного месяца в другой (такие дз надо включать в общее число прогрессов для всех месяцев, которые покрывает срок выполнения этих дз)\n",
    "5. **(m)** Построить line-graph по четвертому пункту. 15 графиков. Графики должны иметь заголовки, оси должны быть подписаны. Ticks нужно развернуть так, чтобы они были читаемы\n",
    "6. **(m)** Построить один line-graph для всех курсов по четвертому пункту. 15 линий на графике. Ticks нужно развернуть так, чтобы они были читаемы. График должен иметь заголовок. Ось, отражающая количество прогрессов, должна быть подписана. Линия для каждого курса должна иметь свой цвет (нужна легенда). Рамок у графика быть не должно ⭐\n",
    "7. На основании рассчитанных значений сделайте аналитический вывод (должен быть полным и покрывать все полученные выше метрики)"
   ]
  },
  {
   "cell_type": "markdown",
   "metadata": {},
   "source": [
    "##### 2.1. Рассчитать прирост студентов на каждом курсе в каждом месяце за всю историю (каждый месяц в диапазоне от марта 2016 до июля 2019 включительно). Считать дату начала прохождения курса студентом по дате начала первой домашней работы.\n"
   ]
  },
  {
   "cell_type": "code",
   "execution_count": null,
   "metadata": {},
   "outputs": [],
   "source": [
    "# создаем датафрейм с первыми домашними работами на каждом курсе.\n",
    "df_hw_starts = df_main[df_main['is_homework'] == True].groupby('title').first().sort_values(['start_date'])\n",
    "df_hw_starts = df_hw_starts.drop(['lesson_token', 'is_video', 'student_id', 'progress_id', 'status', 'finish_date', 'field'], axis = 1)\n",
    "df_hw_starts"
   ]
  },
  {
   "cell_type": "code",
   "execution_count": null,
   "metadata": {},
   "outputs": [],
   "source": [
    "# мерджим с основным датафрейм чтобы остались только записи с началом домашних работ\n",
    "df_hw_starts_count = df_hw_starts.merge(df_main, \n",
    "                                        how = 'left', \n",
    "                                        on = ['course_id', 'module_number', 'lesson_number'],\n",
    "                                        suffixes= ('_count', '_main'))\n",
    "df_hw_starts_count.shape"
   ]
  },
  {
   "cell_type": "code",
   "execution_count": null,
   "metadata": {},
   "outputs": [],
   "source": [
    "print(df_main.shape)\n",
    "print(df_hw_starts_count.shape)"
   ]
  },
  {
   "cell_type": "code",
   "execution_count": null,
   "metadata": {},
   "outputs": [],
   "source": [
    "# создаем функцию для поиска прироста количества студентов на курсе\n",
    "def students_delta(course_name):\n",
    "    df_22 = df_hw_starts_count[df_hw_starts_count.title == course_name]\\\n",
    "        .sort_values('start_date_main', ascending= True)\\\n",
    "        .groupby(pd.Grouper(key = 'start_date_main', freq= 'm'))\\\n",
    "        .agg('count')['student_id']\n",
    "\n",
    "    return df_22"
   ]
  },
  {
   "cell_type": "code",
   "execution_count": null,
   "metadata": {},
   "outputs": [],
   "source": [
    "# список курсов\n",
    "list_of_courses = list(df_main.title.unique())"
   ]
  },
  {
   "cell_type": "code",
   "execution_count": null,
   "metadata": {},
   "outputs": [],
   "source": [
    "for i in list_of_courses:\n",
    "    print(i, students_delta(i))"
   ]
  },
  {
   "cell_type": "markdown",
   "metadata": {},
   "source": [
    "##### 2.2. На основании первого пункта построить line-graph с приростом студентов в каждом месяце для каждого курса. 15 графиков. Графики должны иметь заголовки, оси должны быть подписаны. Ticks нужно развернуть так, чтобы они были читаемы."
   ]
  },
  {
   "cell_type": "code",
   "execution_count": null,
   "metadata": {},
   "outputs": [],
   "source": [
    "dates = pd.date_range(start = '2016-03-01', end= '2019-08-01', freq= 'M').tolist()\n",
    "courses_names = list(df_main.title.unique())"
   ]
  },
  {
   "cell_type": "code",
   "execution_count": null,
   "metadata": {},
   "outputs": [],
   "source": [
    "fig, axs = plt.subplots(nrows = 15, figsize = (15, 75))\n",
    "\n",
    "\n",
    "for i, course in enumerate(courses_names):\n",
    "    graph = students_delta(course)\n",
    "    axs[i].plot(graph.index, graph.values, label = course)\n",
    "    axs[i].set_ylabel('Прирост учеников, шт.')\n",
    "    axs[i].set_xlabel('Месяц')\n",
    "    axs[i].legend()\n",
    "\n",
    "plt.show()\n",
    "    \n"
   ]
  },
  {
   "cell_type": "markdown",
   "metadata": {},
   "source": [
    "##### 2.3. На основании первого пункта построить line-graph с несколькими линиями, отражающими прирост студентов в каждом месяце для каждого курса. 15 линий на графике. Ticks нужно развернуть так, чтобы они были читаемы. График должен иметь заголовок. Ось, отражающая прирост, должна быть подписана. Линия для каждого курса должна иметь свой цвет (нужна легенда). Рамок у графика быть не должно ⭐"
   ]
  },
  {
   "cell_type": "code",
   "execution_count": null,
   "metadata": {},
   "outputs": [],
   "source": [
    "fig, ax = plt.subplots(figsize = (30, 15))\n",
    "\n",
    "\n",
    "for course in courses_names:\n",
    "    graph = students_delta(course)\n",
    "    plt.plot(graph.index, graph.values, label = course)\n",
    "    plt.xticks(dates, rotation = 30)\n",
    "    plt.ylabel('Прирост учеников по итогам месяца, шт.')\n",
    "    plt.xlabel('Месяц')\n",
    "    plt.title('Прирост учеников на различных курсах в период с 2016-03 по 2019-07 ')\n",
    "    plt.legend()\n",
    "    ax.spines[['top', 'left', 'right', 'bottom']].set_visible(False)\n",
    "\n",
    "plt.show()"
   ]
  },
  {
   "cell_type": "markdown",
   "metadata": {},
   "source": [
    "##### 2.4. Рассчитать количество прогрессов по выполнению домашних работ в каждом месяце за всю историю (каждый месяц в диапазоне от марта 2016 до июля 2019 включительно) для каждого курса. Учитывать, что выполнение домашнего задания может перетекать из одного месяца в другой (такие дз надо включать в общее число прогрессов для всех месяцев, которые покрывает срок выполнения этих дз)"
   ]
  },
  {
   "cell_type": "code",
   "execution_count": null,
   "metadata": {},
   "outputs": [],
   "source": [
    "java_hw_done = java_1_hw[java_1_hw.status == 'done']"
   ]
  },
  {
   "cell_type": "code",
   "execution_count": null,
   "metadata": {},
   "outputs": [],
   "source": [
    "java_hw_done['period'] = java_hw_done['finish_date'] - java_hw_done['start_date']"
   ]
  },
  {
   "cell_type": "code",
   "execution_count": null,
   "metadata": {},
   "outputs": [],
   "source": [
    "java_hw_done.head()"
   ]
  },
  {
   "cell_type": "code",
   "execution_count": null,
   "metadata": {},
   "outputs": [],
   "source": [
    "java_1_hw.sort_values('start_date', ascending= True).groupby(pd.Grouper(key = 'start_date', freq= 'm')).agg('count')['student_id']"
   ]
  },
  {
   "cell_type": "code",
   "execution_count": null,
   "metadata": {},
   "outputs": [],
   "source": [
    "df_main[(df_main.title == 'Excel Базовый') & (df_main.status == 'done')].sort_values('start_date', ascending= True)\\\n",
    "    .groupby(pd.Grouper(key = 'start_date', freq= 'M')).agg('count')['status']"
   ]
  },
  {
   "cell_type": "code",
   "execution_count": null,
   "metadata": {},
   "outputs": [],
   "source": [
    "for i in courses_names:\n",
    "    freq = df_main[(df_main.title == i) & (df_main.status == 'done')].sort_values('start_date', ascending= True)\\\n",
    "        .groupby(pd.Grouper(key = 'start_date', freq= 'M')).agg('count')['status']\n",
    "    print(freq)"
   ]
  },
  {
   "cell_type": "markdown",
   "metadata": {},
   "source": [
    "## 3. Выявление проблемных модулей\n",
    "\n",
    "1. **(p)** Рассчитать минимальное, максимальное, среднее, медианное время прохождения каждого модуля (разность между временем начала и окончания выполнения домашней работы) для каждого курса. Если домашних заданий в модуле несколько, то считать разность между временем начала выполнения первой домашней работы и временем окончания выполнения последней домашней работы в модуле\n",
    "2. **(m)** На основании первого пункта построить line-graph с медианным временем прохождения каждого модуля для каждого курса. 15 графиков. Графики должны иметь заголовки\n",
    "3. **(p)**  Чтобы выявить сезонность, посчитать медианное время выполнения домашней работы по месяцам (12 месяцев, январь-декабрь) для каждого курса. \n",
    "4. **(m)** На основании третьего пункта построить line-graph, на который будут нанесены линии для каждого курса с медианным временем выполнения домашней работы по месяцам. 15 линий на графике. График должен иметь заголовок. Ось, отражающая время прохождения, должна быть подписана. Линия для каждого курса должна иметь свой цвет (нужна легенда). Рамок у графика быть не должно  ⭐\n",
    "5. На основании рассчитанных значений сделайте аналитический вывод (должен быть полным и покрывать все полученные выше метрики)"
   ]
  },
  {
   "cell_type": "code",
   "execution_count": null,
   "metadata": {},
   "outputs": [],
   "source": [
    "### YOUR CODE HERE ###\n",
    "\n",
    "\n"
   ]
  },
  {
   "cell_type": "markdown",
   "metadata": {},
   "source": [
    "## 4. Расчет конверсии\n",
    "\n",
    "1. **(p)** Посчитать конверсию перехода студентов из одного модуля в другой на каждом курсе. Формула: отношение количества студентов, приступивших к выполнению домашнего задания в этом модуле (если дз в модуле несколько, то считать по первому дз в модуле), к количеству студентов, сдавших задание в предыдущем модуле (если дз в модуле несколько, то считать по последнему дз в модуле).\n",
    "2. **(m)** Постройте bar-chart, отражающий конверсию перехода студентов из одного модуля в другой на каждом курсе. График должен иметь заголовок. Ticks нужно развернуть так, чтобы они были читаемы\n",
    "3. **(m)** Постройте горизонтальный (столбцы должны располагаться горизонтально) bar-chart, отражающий конверсию перехода студентов из одного модуля в другой на каждом курсе. 15 графиков. Графики должны иметь заголовки. Ticks должны содержать номер и название модуля. Цвет столбцов графиков должен содержать информацию о сфере, к которой относится курс (нужна легенда). Прозрачность должна стоять на отметке 0.1. На графики должна быть нанесена линия медианы конверсии для каждого курса. У медианы должен быть свой цвет. Рамок у графиков быть не должно ⭐\n",
    "4. На основании рассчитанных значений сделайте аналитический вывод (должен быть полным и покрывать все полученные выше метрики)"
   ]
  },
  {
   "cell_type": "code",
   "execution_count": null,
   "metadata": {},
   "outputs": [],
   "source": [
    "### YOUR CODE HERE ###\n",
    "\n",
    "\n"
   ]
  },
  {
   "cell_type": "markdown",
   "metadata": {},
   "source": [
    "## 5. Метрика успеваемости \n",
    "\n",
    "&nbsp;&nbsp;&nbsp;&nbsp;*(необязательное задание)*\n",
    "\n",
    "Иногда студенты берут курсы, которые оказываются для них неподъемными. Это может быть как по причинам недостаточной изначальной подготовки, так и по причинам, связанным с низкой мотивацией студента. Для улучшения качества контента полезно выявить причину. На основании имеющихся данных придумайте метрику успеваемости студента. **Обоснуйте ее.** Выявите таких студентов на каждом курсе, чтобы предоставить продюсерам список проблемных студентов. "
   ]
  },
  {
   "cell_type": "code",
   "execution_count": null,
   "metadata": {},
   "outputs": [],
   "source": [
    "### YOUR CODE HERE ###\n",
    "\n",
    "\n"
   ]
  }
 ],
 "metadata": {
  "interpreter": {
   "hash": "ef0324831d4d131f3f2c1f71caee274a709a631fc0fd650c0bc8eb497b775ea1"
  },
  "kernelspec": {
   "display_name": "Python 3.9.10 ('env_skillbox': venv)",
   "language": "python",
   "name": "python3"
  },
  "language_info": {
   "codemirror_mode": {
    "name": "ipython",
    "version": 3
   },
   "file_extension": ".py",
   "mimetype": "text/x-python",
   "name": "python",
   "nbconvert_exporter": "python",
   "pygments_lexer": "ipython3",
   "version": "3.9.10"
  }
 },
 "nbformat": 4,
 "nbformat_minor": 2
}
